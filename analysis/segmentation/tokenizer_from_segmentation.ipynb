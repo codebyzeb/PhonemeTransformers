{
 "cells": [
  {
   "cell_type": "markdown",
   "metadata": {},
   "source": [
    "# Use Word Segmentation to create a Custom Tokenizer\n",
    "\n",
    "Here, instead of defining a custom tokenizer, we pre-tokenize the text using a segmenter's predicitons and upload that as a new dataset, creating a tokenizer that matches the resulting vocabulary.\n",
    "E.g. if the text previously consisted of `l o o k t h e r e` and the segmenter split it into `look th ere` then that would be added to the new dataset, with `look`, `th` and `ere` added to the vocabulary.\n",
    "\n",
    "We use the GPT-2 BabyLM phoneme model to create segmentations."
   ]
  },
  {
   "cell_type": "code",
   "execution_count": 6,
   "metadata": {},
   "outputs": [],
   "source": [
    "import sys\n",
    "sys.path.append('../../')\n",
    "import numpy as np\n",
    "import pandas as pd\n",
    "import matplotlib.pyplot as plt\n",
    "import seaborn as sns\n",
    "from datasets import load_dataset\n",
    "from transformers import AutoTokenizer, AutoModelForCausalLM\n",
    "\n",
    "from src.preprocessing import DataPreprocessingParams, DataPreprocessor\n",
    "from src.config import DatasetParams\n",
    "from src.utils import setup\n",
    "from src.evaluation.segmentation import GPT2Segmenter\n",
    "\n",
    "MODEL_NAME = 'phonemetransformers/GPT2-85M-CHAR-PHON-SPACELESS'\n",
    "DATASET_NAME = 'phonemetransformers/BabyLM-phonemized'"
   ]
  },
  {
   "cell_type": "markdown",
   "metadata": {},
   "source": [
    "## Load Model and Tokenizer"
   ]
  },
  {
   "cell_type": "code",
   "execution_count": 4,
   "metadata": {},
   "outputs": [
    {
     "data": {
      "application/vnd.jupyter.widget-view+json": {
       "model_id": "5ddde1fc0c6f4d0d829136ed20cd52a6",
       "version_major": 2,
       "version_minor": 0
      },
      "text/plain": [
       "Map:   0%|          | 0/11317151 [00:00<?, ? examples/s]"
      ]
     },
     "metadata": {},
     "output_type": "display_data"
    }
   ],
   "source": [
    "tokenizer = AutoTokenizer.from_pretrained(MODEL_NAME)\n",
    "model = AutoModelForCausalLM.from_pretrained(MODEL_NAME)\n",
    "\n",
    "dataset_params = DatasetParams(subconfig='strict', name=DATASET_NAME, is_phonemes=True, text_column='phonemized_utterance')\n",
    "data_processing_params = DataPreprocessingParams(max_input_length=64, join_utts='static', remove_word_boundaries=True)\n",
    "data_preprocessor = DataPreprocessor(data_processing_params, tokenizer=tokenizer, get_word_boundaries=True)\n",
    "dataset = setup.load_dataset(dataset_params)\n",
    "dataset = dataset['train'].map(data_preprocessor, batched=True, remove_columns=[\"text\"])"
   ]
  },
  {
   "cell_type": "code",
   "execution_count": null,
   "metadata": {},
   "outputs": [],
   "source": [
    "segmenter = GPT2Segmenter(model, tokenizer, dataset, max_sequence_length=256, stride=30, subsample=False)"
   ]
  },
  {
   "cell_type": "code",
   "execution_count": null,
   "metadata": {},
   "outputs": [],
   "source": [
    "# Pickle the segmenter\n",
    "import pickle\n",
    "with open('gpt2_segmenter.pkl', 'wb') as f:\n",
    "    pickle.dump(segmenter, f)"
   ]
  }
 ],
 "metadata": {
  "kernelspec": {
   "display_name": "env",
   "language": "python",
   "name": "python3"
  },
  "language_info": {
   "codemirror_mode": {
    "name": "ipython",
    "version": 3
   },
   "file_extension": ".py",
   "mimetype": "text/x-python",
   "name": "python",
   "nbconvert_exporter": "python",
   "pygments_lexer": "ipython3",
   "version": "3.9.13"
  }
 },
 "nbformat": 4,
 "nbformat_minor": 2
}
